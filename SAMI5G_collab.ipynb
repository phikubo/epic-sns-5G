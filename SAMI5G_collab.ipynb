{
  "nbformat": 4,
  "nbformat_minor": 0,
  "metadata": {
    "colab": {
      "name": "SAMI5G-collab.ipynb",
      "provenance": [],
      "authorship_tag": "ABX9TyP4Hpwa7X2giF8UlFEi6xrm",
      "include_colab_link": true
    },
    "kernelspec": {
      "name": "python3",
      "display_name": "Python 3"
    },
    "language_info": {
      "name": "python"
    }
  },
  "cells": [
    {
      "cell_type": "markdown",
      "metadata": {
        "id": "view-in-github",
        "colab_type": "text"
      },
      "source": [
        "<a href=\"https://colab.research.google.com/github/phikubo/epic-sns-5G/blob/dev_tosse/SAMI5G_collab.ipynb\" target=\"_parent\"><img src=\"https://colab.research.google.com/assets/colab-badge.svg\" alt=\"Open In Colab\"/></a>"
      ]
    },
    {
      "cell_type": "code",
      "execution_count": 1,
      "metadata": {
        "colab": {
          "base_uri": "https://localhost:8080/"
        },
        "id": "aKj9tIhjjKbj",
        "outputId": "4ce888ce-5447-4706-ca87-68aac759b6f4"
      },
      "outputs": [
        {
          "output_type": "stream",
          "name": "stdout",
          "text": [
            "fatal: destination path 'epic-sns-5G' already exists and is not an empty directory.\n"
          ]
        }
      ],
      "source": [
        "#@title CLONAR REPOSITORIO { form-width: \"50%\", display-mode: \"form\" }\n",
        "!git clone https://github.com/phikubo/epic-sns-5G.git"
      ]
    },
    {
      "cell_type": "code",
      "source": [
        "pip install pip #@title INSTALAR PIP de PYTHON { form-width: \"50%\" }\n"
      ],
      "metadata": {
        "colab": {
          "base_uri": "https://localhost:8080/"
        },
        "id": "EwK4qJGnjV15",
        "outputId": "ff385ef7-5cbd-4fca-e4e2-5e85dc3eef82",
        "cellView": "form"
      },
      "execution_count": 2,
      "outputs": [
        {
          "output_type": "stream",
          "name": "stdout",
          "text": [
            "Requirement already satisfied: pip in /usr/local/lib/python3.7/dist-packages (21.1.3)\n"
          ]
        }
      ]
    },
    {
      "cell_type": "code",
      "source": [
        "%cd /content/epic-sns-5G/entorno_virtual_dependencias\n",
        "#@title DIRIGIRSE A LA CARPETA CON LOS ARCHIVOS DE CONFIGURACIÓN { form-width: \"50%\" }\n"
      ],
      "metadata": {
        "colab": {
          "base_uri": "https://localhost:8080/"
        },
        "id": "0wQcD79-jcLa",
        "outputId": "300b95e0-59b2-441c-baec-78cb58409dd9",
        "cellView": "form"
      },
      "execution_count": 3,
      "outputs": [
        {
          "output_type": "stream",
          "name": "stdout",
          "text": [
            "/content/epic-sns-5G/entorno_virtual_dependencias\n"
          ]
        }
      ]
    },
    {
      "cell_type": "code",
      "source": [
        "!pip install -r requirements.txt\n",
        "#@title INSTALAR REQUERIMIENTOS DEL ENTORNO { form-width: \"50%\" }"
      ],
      "metadata": {
        "id": "4eXe9M1ijlZq",
        "cellView": "form"
      },
      "execution_count": null,
      "outputs": []
    },
    {
      "cell_type": "code",
      "source": [
        "#@title COPIAR ARCHIVOS DE CONIFGURACION Y SIMULACIONES  { form-width: \"50%\" }\n",
        "%cp -av /content/epic-sns-5G/entorno_virtual_dependencias/configuracion_referencia/escenarios /content/epic-sns-5G/produccion/sami_v1.1/simapp/static/simulador/base_datos \n",
        "%cp /content/epic-sns-5G/entorno_virtual_dependencias/configuracion_referencia/config_gui.json /content/epic-sns-5G/produccion/sami_v1.1/simapp/static/simulador/base_datos\n",
        "%cp /content/epic-sns-5G/entorno_virtual_dependencias/configuracion_referencia/config_sim.json /content/epic-sns-5G/produccion/sami_v1.1/simapp/static/simulador/base_datos\n",
        "%cp /content/epic-sns-5G/entorno_virtual_dependencias/configuracion_referencia/configs.json /content/epic-sns-5G/produccion/sami_v1.1/simapp/static/simulador/base_datos\n",
        "%cp /content/epic-sns-5G/entorno_virtual_dependencias/configuracion_referencia/vnfd_mapping.json /content/epic-sns-5G/produccion/sami_v1.1/simapp/static/simulador/base_datos\n",
        "\n",
        "\n"
      ],
      "metadata": {
        "id": "OF8c5ToRkBSJ",
        "cellView": "form"
      },
      "execution_count": null,
      "outputs": []
    },
    {
      "cell_type": "code",
      "source": [
        "#@title DIRIGIRSE A LA CARPETA DE EJECUCIÓN { form-width: \"50%\" }\n",
        "%cd /content/epic-sns-5G/produccion/sami_v1.1"
      ],
      "metadata": {
        "colab": {
          "base_uri": "https://localhost:8080/"
        },
        "id": "v9PUurkLkM4p",
        "outputId": "f8e59a7b-e05e-44d8-86fc-9adf2b99aaa2",
        "cellView": "form"
      },
      "execution_count": 6,
      "outputs": [
        {
          "output_type": "stream",
          "name": "stdout",
          "text": [
            "/content/epic-sns-5G/produccion/sami_v1.1\n"
          ]
        }
      ]
    },
    {
      "cell_type": "code",
      "source": [
        "#@title EJECUTAR SAMI-5G\n",
        "!python manage.py runserver"
      ],
      "metadata": {
        "colab": {
          "base_uri": "https://localhost:8080/"
        },
        "id": "Fr5vAa-BlsWM",
        "outputId": "471232a9-ee68-4e0c-fa9f-21ed3633eff7",
        "cellView": "form"
      },
      "execution_count": 9,
      "outputs": [
        {
          "output_type": "stream",
          "name": "stdout",
          "text": [
            "Watching for file changes with StatReloader\n",
            "Performing system checks...\n",
            "\n",
            "Modulo Importado: [ config.py ]\n",
            "From django.views:\n",
            "From simulador.py\n",
            "From sistema.py\n",
            "Modulo Importado: [ celda.py ]\n",
            "Modulo Importado: [ modulo_coordenadas.py ]\n",
            "Modulo Importado: [ modulo_ppp.py ]\n",
            "Modulo Importado: [ antenas.py ]\n",
            "Modulo Importado: [ modulo_circulos.py ]\n",
            "Modulo Importado: [ modelo_canal.py ]\n",
            "Modulo Importado: [ planificador.py ]\n",
            "Modulo Importado: [ modulacion.py ]\n",
            "Modulo Importado: [ sistema.py ]\n",
            "Modulo Importado: [ modulo_almacenamiento.py ]\n",
            "Modulo Importado: [ modulo_estadisticas.py ]\n",
            "Modulo Importado: [ MAIN_simulador.py ]\n",
            "System check identified no issues (0 silenced).\n",
            "May 09, 2022 - 21:09:52\n",
            "Django version 3.2.13, using settings 'sami.settings'\n",
            "Starting development server at http://127.0.0.1:8000/\n",
            "Quit the server with CONTROL-C.\n"
          ]
        }
      ]
    }
  ]
}