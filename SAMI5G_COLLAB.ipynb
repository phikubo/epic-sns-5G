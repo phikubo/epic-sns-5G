{
  "nbformat": 4,
  "nbformat_minor": 0,
  "metadata": {
    "colab": {
      "name": "SAMI5G-COLLAB.ipynb",
      "provenance": [],
      "authorship_tag": "ABX9TyMh9R75L48E1T2L6i7xXQKl",
      "include_colab_link": true
    },
    "kernelspec": {
      "name": "python3",
      "display_name": "Python 3"
    },
    "language_info": {
      "name": "python"
    }
  },
  "cells": [
    {
      "cell_type": "markdown",
      "metadata": {
        "id": "view-in-github",
        "colab_type": "text"
      },
      "source": [
        "<a href=\"https://colab.research.google.com/github/phikubo/epic-sns-5G/blob/dev_tosse/SAMI5G_COLLAB.ipynb\" target=\"_parent\"><img src=\"https://colab.research.google.com/assets/colab-badge.svg\" alt=\"Open In Colab\"/></a>"
      ]
    },
    {
      "cell_type": "code",
      "source": [
        "#@title install PIP of python (NOTE: only once) { form-width: \"50%\", display-mode: \"form\" }\n",
        "!pip install --upgrade pip"
      ],
      "metadata": {
        "colab": {
          "base_uri": "https://localhost:8080/"
        },
        "id": "YP1G0lHmHmwh",
        "outputId": "44a58d80-d2c4-439f-91cc-893ff0de4bca"
      },
      "execution_count": 59,
      "outputs": [
        {
          "output_type": "stream",
          "name": "stdout",
          "text": [
            "Requirement already satisfied: pip in /usr/local/lib/python3.7/dist-packages (22.0.4)\n",
            "\u001b[33mWARNING: Running pip as the 'root' user can result in broken permissions and conflicting behaviour with the system package manager. It is recommended to use a virtual environment instead: https://pip.pypa.io/warnings/venv\u001b[0m\u001b[33m\n",
            "\u001b[0m"
          ]
        }
      ]
    },
    {
      "cell_type": "code",
      "execution_count": 60,
      "metadata": {
        "colab": {
          "base_uri": "https://localhost:8080/"
        },
        "id": "EOnasbklEDxf",
        "outputId": "2e358066-d165-491d-f787-42bae2483937"
      },
      "outputs": [
        {
          "output_type": "stream",
          "name": "stdout",
          "text": [
            "fatal: destination path 'epic-sns-5G' already exists and is not an empty directory.\n"
          ]
        }
      ],
      "source": [
        "#@title Clone github of SAMI-5G { form-width: \"50%\", display-mode: \"form\" }\n",
        "!git clone https://github.com/phikubo/epic-sns-5G.git"
      ]
    },
    {
      "cell_type": "code",
      "source": [
        "#@title Install requirements of enviorement and files for simulation { form-width: \"50%\", display-mode: \"form\" }\n",
        "!cd /content/epic-sns-5G/entorno_virtual_dependencias\n",
        "!pip install -r /content/epic-sns-5G/entorno_virtual_dependencias/requirements.txt\n",
        "\n",
        "%cp -av /content/epic-sns-5G/entorno_virtual_dependencias/configuracion_referencia/escenarios /content/epic-sns-5G/produccion/sami_v1.1/simapp/static/simulador/base_datos\n",
        "%cp /content/epic-sns-5G/entorno_virtual_dependencias/configuracion_referencia/config_gui.json /content/epic-sns-5G/produccion/sami_v1.1/simapp/static/simulador/base_datos\n",
        "%cp /content/epic-sns-5G/entorno_virtual_dependencias/configuracion_referencia/config_sim.json /content/epic-sns-5G/produccion/sami_v1.1/simapp/static/simulador/base_datos\n",
        "%cp /content/epic-sns-5G/entorno_virtual_dependencias/configuracion_referencia/configs.json /content/epic-sns-5G/produccion/sami_v1.1/simapp/static/simulador/base_datos\n",
        "%cp /content/epic-sns-5G/entorno_virtual_dependencias/configuracion_referencia/vnfd_mapping.json /content/epic-sns-5G/produccion/sami_v1.1/simapp/static/simulador/base_datos"
      ],
      "metadata": {
        "colab": {
          "base_uri": "https://localhost:8080/"
        },
        "id": "m_EozPOcE3r3",
        "outputId": "e32bf347-24f6-4619-f468-a9eb23cbfd3f"
      },
      "execution_count": 65,
      "outputs": [
        {
          "output_type": "stream",
          "name": "stdout",
          "text": [
            "Requirement already satisfied: numpy in /usr/local/lib/python3.7/dist-packages (from -r /content/epic-sns-5G/entorno_virtual_dependencias/requirements.txt (line 2)) (1.21.6)\n",
            "Requirement already satisfied: pandas in /usr/local/lib/python3.7/dist-packages (from -r /content/epic-sns-5G/entorno_virtual_dependencias/requirements.txt (line 3)) (1.3.5)\n",
            "Requirement already satisfied: matplotlib in /usr/local/lib/python3.7/dist-packages (from -r /content/epic-sns-5G/entorno_virtual_dependencias/requirements.txt (line 4)) (3.2.2)\n",
            "Requirement already satisfied: scipy in /usr/local/lib/python3.7/dist-packages (from -r /content/epic-sns-5G/entorno_virtual_dependencias/requirements.txt (line 5)) (1.4.1)\n",
            "Requirement already satisfied: django in /usr/local/lib/python3.7/dist-packages (from -r /content/epic-sns-5G/entorno_virtual_dependencias/requirements.txt (line 6)) (3.2.13)\n",
            "Requirement already satisfied: pyfiglet in /usr/local/lib/python3.7/dist-packages (from -r /content/epic-sns-5G/entorno_virtual_dependencias/requirements.txt (line 7)) (0.8.post1)\n",
            "Requirement already satisfied: django-crispy-forms in /usr/local/lib/python3.7/dist-packages (from -r /content/epic-sns-5G/entorno_virtual_dependencias/requirements.txt (line 8)) (1.14.0)\n",
            "Requirement already satisfied: django-formtools in /usr/local/lib/python3.7/dist-packages (from -r /content/epic-sns-5G/entorno_virtual_dependencias/requirements.txt (line 9)) (2.3)\n",
            "Requirement already satisfied: pytz>=2017.3 in /usr/local/lib/python3.7/dist-packages (from pandas->-r /content/epic-sns-5G/entorno_virtual_dependencias/requirements.txt (line 3)) (2022.1)\n",
            "Requirement already satisfied: python-dateutil>=2.7.3 in /usr/local/lib/python3.7/dist-packages (from pandas->-r /content/epic-sns-5G/entorno_virtual_dependencias/requirements.txt (line 3)) (2.8.2)\n",
            "Requirement already satisfied: pyparsing!=2.0.4,!=2.1.2,!=2.1.6,>=2.0.1 in /usr/local/lib/python3.7/dist-packages (from matplotlib->-r /content/epic-sns-5G/entorno_virtual_dependencias/requirements.txt (line 4)) (3.0.8)\n",
            "Requirement already satisfied: cycler>=0.10 in /usr/local/lib/python3.7/dist-packages (from matplotlib->-r /content/epic-sns-5G/entorno_virtual_dependencias/requirements.txt (line 4)) (0.11.0)\n",
            "Requirement already satisfied: kiwisolver>=1.0.1 in /usr/local/lib/python3.7/dist-packages (from matplotlib->-r /content/epic-sns-5G/entorno_virtual_dependencias/requirements.txt (line 4)) (1.4.2)\n",
            "Requirement already satisfied: sqlparse>=0.2.2 in /usr/local/lib/python3.7/dist-packages (from django->-r /content/epic-sns-5G/entorno_virtual_dependencias/requirements.txt (line 6)) (0.4.2)\n",
            "Requirement already satisfied: asgiref<4,>=3.3.2 in /usr/local/lib/python3.7/dist-packages (from django->-r /content/epic-sns-5G/entorno_virtual_dependencias/requirements.txt (line 6)) (3.5.1)\n",
            "Requirement already satisfied: typing-extensions in /usr/local/lib/python3.7/dist-packages (from asgiref<4,>=3.3.2->django->-r /content/epic-sns-5G/entorno_virtual_dependencias/requirements.txt (line 6)) (4.2.0)\n",
            "Requirement already satisfied: six>=1.5 in /usr/local/lib/python3.7/dist-packages (from python-dateutil>=2.7.3->pandas->-r /content/epic-sns-5G/entorno_virtual_dependencias/requirements.txt (line 3)) (1.15.0)\n",
            "\u001b[33mWARNING: Running pip as the 'root' user can result in broken permissions and conflicting behaviour with the system package manager. It is recommended to use a virtual environment instead: https://pip.pypa.io/warnings/venv\u001b[0m\u001b[33m\n",
            "\u001b[0m'/content/epic-sns-5G/entorno_virtual_dependencias/configuracion_referencia/escenarios/basicos/final_3gpp_4g_media_NA.txt' -> '/content/epic-sns-5G/produccion/sami_v1.1/simapp/static/simulador/base_datos/escenarios/basicos/final_3gpp_4g_media_NA.txt'\n",
            "'/content/epic-sns-5G/entorno_virtual_dependencias/configuracion_referencia/escenarios/basicos/final_CI_5g_media_NA.txt' -> '/content/epic-sns-5G/produccion/sami_v1.1/simapp/static/simulador/base_datos/escenarios/basicos/final_CI_5g_media_NA.txt'\n",
            "'/content/epic-sns-5G/entorno_virtual_dependencias/configuracion_referencia/escenarios/basicos/final_abg_5g_media_NA.txt' -> '/content/epic-sns-5G/produccion/sami_v1.1/simapp/static/simulador/base_datos/escenarios/basicos/final_abg_5g_media_NA.txt'\n",
            "'/content/epic-sns-5G/entorno_virtual_dependencias/configuracion_referencia/escenarios/basicos/final_okumura_4g_media_NA.txt' -> '/content/epic-sns-5G/produccion/sami_v1.1/simapp/static/simulador/base_datos/escenarios/basicos/final_okumura_4g_media_NA.txt'\n",
            "'/content/epic-sns-5G/entorno_virtual_dependencias/configuracion_referencia/escenarios/basicos/leeme' -> '/content/epic-sns-5G/produccion/sami_v1.1/simapp/static/simulador/base_datos/escenarios/basicos/leeme'\n",
            "'/content/epic-sns-5G/entorno_virtual_dependencias/configuracion_referencia/escenarios/final01_uma_okumura_4g_media_NA.json' -> '/content/epic-sns-5G/produccion/sami_v1.1/simapp/static/simulador/base_datos/escenarios/final01_uma_okumura_4g_media_NA.json'\n",
            "'/content/epic-sns-5G/entorno_virtual_dependencias/configuracion_referencia/escenarios/final02_uma_okumura_4g_moderada_NA.json' -> '/content/epic-sns-5G/produccion/sami_v1.1/simapp/static/simulador/base_datos/escenarios/final02_uma_okumura_4g_moderada_NA.json'\n",
            "'/content/epic-sns-5G/entorno_virtual_dependencias/configuracion_referencia/escenarios/final03_uma_okumura_4g_alta_NA.json' -> '/content/epic-sns-5G/produccion/sami_v1.1/simapp/static/simulador/base_datos/escenarios/final03_uma_okumura_4g_alta_NA.json'\n",
            "'/content/epic-sns-5G/entorno_virtual_dependencias/configuracion_referencia/escenarios/final04_uma_okumura_4g_media_lento.json' -> '/content/epic-sns-5G/produccion/sami_v1.1/simapp/static/simulador/base_datos/escenarios/final04_uma_okumura_4g_media_lento.json'\n",
            "'/content/epic-sns-5G/entorno_virtual_dependencias/configuracion_referencia/escenarios/final05_uma_okumura_4g_moderada_lento.json' -> '/content/epic-sns-5G/produccion/sami_v1.1/simapp/static/simulador/base_datos/escenarios/final05_uma_okumura_4g_moderada_lento.json'\n",
            "'/content/epic-sns-5G/entorno_virtual_dependencias/configuracion_referencia/escenarios/final06_uma_okumura_4g_alta_lento.json' -> '/content/epic-sns-5G/produccion/sami_v1.1/simapp/static/simulador/base_datos/escenarios/final06_uma_okumura_4g_alta_lento.json'\n",
            "'/content/epic-sns-5G/entorno_virtual_dependencias/configuracion_referencia/escenarios/final07_uma_3gpp_4g_media_NA.json' -> '/content/epic-sns-5G/produccion/sami_v1.1/simapp/static/simulador/base_datos/escenarios/final07_uma_3gpp_4g_media_NA.json'\n",
            "'/content/epic-sns-5G/entorno_virtual_dependencias/configuracion_referencia/escenarios/final08_uma_3gpp_4g_moderada_NA.json' -> '/content/epic-sns-5G/produccion/sami_v1.1/simapp/static/simulador/base_datos/escenarios/final08_uma_3gpp_4g_moderada_NA.json'\n",
            "'/content/epic-sns-5G/entorno_virtual_dependencias/configuracion_referencia/escenarios/final09_uma_3gpp_4g_alta_NA.json' -> '/content/epic-sns-5G/produccion/sami_v1.1/simapp/static/simulador/base_datos/escenarios/final09_uma_3gpp_4g_alta_NA.json'\n",
            "'/content/epic-sns-5G/entorno_virtual_dependencias/configuracion_referencia/escenarios/final10_uma_3gpp_4g_media_lento.json' -> '/content/epic-sns-5G/produccion/sami_v1.1/simapp/static/simulador/base_datos/escenarios/final10_uma_3gpp_4g_media_lento.json'\n",
            "'/content/epic-sns-5G/entorno_virtual_dependencias/configuracion_referencia/escenarios/final11_uma_3gpp_4g_moderada_lento.json' -> '/content/epic-sns-5G/produccion/sami_v1.1/simapp/static/simulador/base_datos/escenarios/final11_uma_3gpp_4g_moderada_lento.json'\n",
            "'/content/epic-sns-5G/entorno_virtual_dependencias/configuracion_referencia/escenarios/final12_uma_3gpp_4g_alta_lento.json' -> '/content/epic-sns-5G/produccion/sami_v1.1/simapp/static/simulador/base_datos/escenarios/final12_uma_3gpp_4g_alta_lento.json'\n",
            "'/content/epic-sns-5G/entorno_virtual_dependencias/configuracion_referencia/escenarios/final13_uma_3gpp_4g_media_NA2.json' -> '/content/epic-sns-5G/produccion/sami_v1.1/simapp/static/simulador/base_datos/escenarios/final13_uma_3gpp_4g_media_NA2.json'\n",
            "'/content/epic-sns-5G/entorno_virtual_dependencias/configuracion_referencia/escenarios/final14_uma_3gpp_4g_moderada_NA2.json' -> '/content/epic-sns-5G/produccion/sami_v1.1/simapp/static/simulador/base_datos/escenarios/final14_uma_3gpp_4g_moderada_NA2.json'\n",
            "'/content/epic-sns-5G/entorno_virtual_dependencias/configuracion_referencia/escenarios/final15_uma_3gpp_4g_alta_NA2.json' -> '/content/epic-sns-5G/produccion/sami_v1.1/simapp/static/simulador/base_datos/escenarios/final15_uma_3gpp_4g_alta_NA2.json'\n",
            "'/content/epic-sns-5G/entorno_virtual_dependencias/configuracion_referencia/escenarios/final16_umi_CI_5g_media_NA.json' -> '/content/epic-sns-5G/produccion/sami_v1.1/simapp/static/simulador/base_datos/escenarios/final16_umi_CI_5g_media_NA.json'\n",
            "'/content/epic-sns-5G/entorno_virtual_dependencias/configuracion_referencia/escenarios/final17_umi_CI_5g_moderada_NA.json' -> '/content/epic-sns-5G/produccion/sami_v1.1/simapp/static/simulador/base_datos/escenarios/final17_umi_CI_5g_moderada_NA.json'\n",
            "'/content/epic-sns-5G/entorno_virtual_dependencias/configuracion_referencia/escenarios/final18_umi_CI_5g_alta_NA.json' -> '/content/epic-sns-5G/produccion/sami_v1.1/simapp/static/simulador/base_datos/escenarios/final18_umi_CI_5g_alta_NA.json'\n",
            "'/content/epic-sns-5G/entorno_virtual_dependencias/configuracion_referencia/escenarios/final19_umi_CI_5g_media_NA2.json' -> '/content/epic-sns-5G/produccion/sami_v1.1/simapp/static/simulador/base_datos/escenarios/final19_umi_CI_5g_media_NA2.json'\n",
            "'/content/epic-sns-5G/entorno_virtual_dependencias/configuracion_referencia/escenarios/final20_umi_CI_5g_moderada_NA2.json' -> '/content/epic-sns-5G/produccion/sami_v1.1/simapp/static/simulador/base_datos/escenarios/final20_umi_CI_5g_moderada_NA2.json'\n",
            "'/content/epic-sns-5G/entorno_virtual_dependencias/configuracion_referencia/escenarios/final21_umi_CI_5g_alta_NA2.json' -> '/content/epic-sns-5G/produccion/sami_v1.1/simapp/static/simulador/base_datos/escenarios/final21_umi_CI_5g_alta_NA2.json'\n",
            "'/content/epic-sns-5G/entorno_virtual_dependencias/configuracion_referencia/escenarios/final22_umi_abg_5g_media_NA.json' -> '/content/epic-sns-5G/produccion/sami_v1.1/simapp/static/simulador/base_datos/escenarios/final22_umi_abg_5g_media_NA.json'\n",
            "'/content/epic-sns-5G/entorno_virtual_dependencias/configuracion_referencia/escenarios/final23_umi_abg_5g_moderada_NA.json' -> '/content/epic-sns-5G/produccion/sami_v1.1/simapp/static/simulador/base_datos/escenarios/final23_umi_abg_5g_moderada_NA.json'\n",
            "'/content/epic-sns-5G/entorno_virtual_dependencias/configuracion_referencia/escenarios/final24_umi_abg_5g_alta_NA.json' -> '/content/epic-sns-5G/produccion/sami_v1.1/simapp/static/simulador/base_datos/escenarios/final24_umi_abg_5g_alta_NA.json'\n",
            "'/content/epic-sns-5G/entorno_virtual_dependencias/configuracion_referencia/escenarios/final25_umi_abg_5g_media_lento.json' -> '/content/epic-sns-5G/produccion/sami_v1.1/simapp/static/simulador/base_datos/escenarios/final25_umi_abg_5g_media_lento.json'\n",
            "'/content/epic-sns-5G/entorno_virtual_dependencias/configuracion_referencia/escenarios/final26_umi_abg_5g_moderada_lento.json' -> '/content/epic-sns-5G/produccion/sami_v1.1/simapp/static/simulador/base_datos/escenarios/final26_umi_abg_5g_moderada_lento.json'\n",
            "'/content/epic-sns-5G/entorno_virtual_dependencias/configuracion_referencia/escenarios/final27_umi_abg_5g_alta_lento.json' -> '/content/epic-sns-5G/produccion/sami_v1.1/simapp/static/simulador/base_datos/escenarios/final27_umi_abg_5g_alta_lento.json'\n",
            "'/content/epic-sns-5G/entorno_virtual_dependencias/configuracion_referencia/escenarios/final28_umi_abg_5g_media_rapido.json' -> '/content/epic-sns-5G/produccion/sami_v1.1/simapp/static/simulador/base_datos/escenarios/final28_umi_abg_5g_media_rapido.json'\n",
            "'/content/epic-sns-5G/entorno_virtual_dependencias/configuracion_referencia/escenarios/final29_umi_abg_5g_moderada_rapido.json' -> '/content/epic-sns-5G/produccion/sami_v1.1/simapp/static/simulador/base_datos/escenarios/final29_umi_abg_5g_moderada_rapido.json'\n",
            "'/content/epic-sns-5G/entorno_virtual_dependencias/configuracion_referencia/escenarios/final30_umi_abg_5g_alta_rapido.json' -> '/content/epic-sns-5G/produccion/sami_v1.1/simapp/static/simulador/base_datos/escenarios/final30_umi_abg_5g_alta_rapido.json'\n",
            "'/content/epic-sns-5G/entorno_virtual_dependencias/configuracion_referencia/escenarios/final31_umi_abg_5g_media_mixto.json' -> '/content/epic-sns-5G/produccion/sami_v1.1/simapp/static/simulador/base_datos/escenarios/final31_umi_abg_5g_media_mixto.json'\n",
            "'/content/epic-sns-5G/entorno_virtual_dependencias/configuracion_referencia/escenarios/final32_umi_abg_5g_moderada_mixto.json' -> '/content/epic-sns-5G/produccion/sami_v1.1/simapp/static/simulador/base_datos/escenarios/final32_umi_abg_5g_moderada_mixto.json'\n",
            "'/content/epic-sns-5G/entorno_virtual_dependencias/configuracion_referencia/escenarios/final33_umi_abg_5g_alta_mixto.json' -> '/content/epic-sns-5G/produccion/sami_v1.1/simapp/static/simulador/base_datos/escenarios/final33_umi_abg_5g_alta_mixto.json'\n",
            "'/content/epic-sns-5G/entorno_virtual_dependencias/configuracion_referencia/escenarios/final34_umi_CI_5g_media_mixto.json' -> '/content/epic-sns-5G/produccion/sami_v1.1/simapp/static/simulador/base_datos/escenarios/final34_umi_CI_5g_media_mixto.json'\n",
            "'/content/epic-sns-5G/entorno_virtual_dependencias/configuracion_referencia/escenarios/leeme' -> '/content/epic-sns-5G/produccion/sami_v1.1/simapp/static/simulador/base_datos/escenarios/leeme'\n"
          ]
        }
      ]
    },
    {
      "cell_type": "code",
      "source": [
        "#@title Execute SAMI-5G Simulator and  them Good Experience !! { form-width: \"50%\", display-mode: \"code\" }\n",
        "!cd /content/epic-sns-5G/produccion/sami_v1.1\n",
        "!python manage.py runserver"
      ],
      "metadata": {
        "colab": {
          "base_uri": "https://localhost:8080/"
        },
        "id": "iONVMmSMMgD5",
        "outputId": "d8800088-83ce-46bd-94bd-c8370b1be0fa"
      },
      "execution_count": null,
      "outputs": [
        {
          "output_type": "stream",
          "name": "stdout",
          "text": [
            "Watching for file changes with StatReloader\n",
            "Performing system checks...\n",
            "\n",
            "Modulo Importado: [ config.py ]\n",
            "From django.views:\n",
            "From simulador.py\n",
            "From sistema.py\n",
            "Modulo Importado: [ celda.py ]\n",
            "Modulo Importado: [ modulo_coordenadas.py ]\n",
            "Modulo Importado: [ modulo_ppp.py ]\n",
            "Modulo Importado: [ antenas.py ]\n",
            "Modulo Importado: [ modulo_circulos.py ]\n",
            "Modulo Importado: [ modelo_canal.py ]\n",
            "Modulo Importado: [ planificador.py ]\n",
            "Modulo Importado: [ modulacion.py ]\n",
            "Modulo Importado: [ sistema.py ]\n",
            "Modulo Importado: [ modulo_almacenamiento.py ]\n",
            "Modulo Importado: [ modulo_estadisticas.py ]\n",
            "Modulo Importado: [ MAIN_simulador.py ]\n",
            "System check identified no issues (0 silenced).\n",
            "May 09, 2022 - 19:49:47\n",
            "Django version 3.2.13, using settings 'sami.settings'\n",
            "Starting development server at http://127.0.0.1:8000/\n",
            "Quit the server with CONTROL-C.\n"
          ]
        }
      ]
    },
    {
      "cell_type": "code",
      "source": [
        ""
      ],
      "metadata": {
        "id": "yoAiXwdKXuUH"
      },
      "execution_count": null,
      "outputs": []
    }
  ]
}